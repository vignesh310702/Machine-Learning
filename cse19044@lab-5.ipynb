{
 "cells": [
  {
   "cell_type": "code",
   "execution_count": 1,
   "id": "d791f36b",
   "metadata": {},
   "outputs": [],
   "source": [
    "import numpy as np"
   ]
  },
  {
   "cell_type": "code",
   "execution_count": 6,
   "id": "c8844373",
   "metadata": {},
   "outputs": [],
   "source": [
    "class percep_training:\n",
    "    def __init__(self,h_weights,weights,alpha,gate,flag):\n",
    "        self.weights=weights\n",
    "        self.h_weights=h_weights\n",
    "        self.alpha=alpha\n",
    "        self.gate=gate\n",
    "        self.flag=flag\n",
    "    def train(self,inp):\n",
    "        for x in range(0,1000):\n",
    "            self.flag=x\n",
    "            for i in range(0,len(inp)):\n",
    "                m1 = (inp[i][0]*self.h_weights[0])+(inp[i][1]*self.h_weights[2])+self.h_weights[4]\n",
    "                m2 = (inp[i][0]*self.h_weights[1])+(inp[i][1]*self.h_weights[3])+self.h_weights[5]\n",
    "                y1=self.sigmoid(m1)\n",
    "                y2=self.sigmoid(m2)\n",
    "                y=self.weights[0]*y1+self.weights[1]*y2+self.weights[2]\n",
    "                flag1=y\n",
    "                if self.gate=='and':\n",
    "                    t=self.AND(inp[i][0],inp[i][1])\n",
    "                else:\n",
    "                    t=self.XOR(inp[i][0],inp[i][1])\n",
    "                flag2=t\n",
    "                if t-y==0:\n",
    "                    break\n",
    "                else:\n",
    "                    delta=self.delta_f(y,t)\n",
    "                    self.h_weights_update(delta,inp[i])\n",
    "                    self.weights_update(delta,m1,m2)\n",
    "            if flag2-flag1==0:\n",
    "                break\n",
    "    def sigmoid(self,z):\n",
    "        return 1/(1+np.exp(-z))\n",
    "    def AND(self,a,b):\n",
    "        return (a & b)\n",
    "    def XOR(self,a,b):\n",
    "        return (a ^ b)\n",
    "    def delta_f(self,y,t):\n",
    "        return y*(1-y)*(t-y)\n",
    "    def h_weights_update(self,delta,i):\n",
    "        for j in range(0,len(h_weights)):\n",
    "            if j==0:\n",
    "                self.h_weights[j]=self.h_weights[j]+(self.alpha*delta*i[0])\n",
    "            elif j==1:\n",
    "                self.h_weights[j]=self.h_weights[j]+(self.alpha*delta*i[1])\n",
    "            elif j==2:\n",
    "                self.h_weights[j]=self.h_weights[j]+(self.alpha*delta*i[0])\n",
    "            elif j==3:\n",
    "                self.h_weights[j]=self.h_weights[j]+(self.alpha*delta*i[1])\n",
    "            elif j==4:\n",
    "                self.h_weights[j]=self.h_weights[j]+(self.alpha*delta)\n",
    "            elif j==5:\n",
    "                self.h_weights[j]=self.h_weights[j]+(self.alpha*delta)\n",
    "    def weights_update(self,delta,m1,m2):\n",
    "           for j in range(0,len(weights)):\n",
    "                if i==2:\n",
    "                    self.weights[j]=self.weights[j]+(self.alpha*delta)\n",
    "                elif i==1:\n",
    "                    self.weights[j]=self.weights[j]+(self.alpha*delta*m2)\n",
    "                else:\n",
    "                    self.weights[j]=self.weights[j]+(self.alpha*delta*m1)"
   ]
  },
  {
   "cell_type": "code",
   "execution_count": 7,
   "id": "f00ab89f",
   "metadata": {},
   "outputs": [
    {
     "name": "stdout",
     "output_type": "stream",
     "text": [
      "[-0.007710900120504484, 0.014682821985525436, -0.009289676842956607, -0.015377609036995005, -0.006628744552403372, -0.005715301461907469]\n",
      "[-0.011335394585678227, 0.005031121297542786, -0.009907070644386357]\n"
     ]
    }
   ],
   "source": [
    "n=np.random.randn(1,9)*0.01\n",
    "h_weights=[]\n",
    "weights=[]\n",
    "h_weights.append(n[0][0])\n",
    "h_weights.append(n[0][1])\n",
    "h_weights.append(n[0][2])\n",
    "h_weights.append(n[0][3])\n",
    "h_weights.append(n[0][4])\n",
    "h_weights.append(n[0][5])\n",
    "weights.append(n[0][6])\n",
    "weights.append(n[0][7])\n",
    "weights.append(n[0][8])\n",
    "print(h_weights)\n",
    "print(weights)"
   ]
  },
  {
   "cell_type": "code",
   "execution_count": 10,
   "id": "2c1935d3",
   "metadata": {},
   "outputs": [],
   "source": [
    "inp=[[0,0],[0,1],[1,0],[1,1]]\n",
    "for i in range(0,4):\n",
    "    inp[i][0]=float(inp[i][0])\n",
    "    inp[i][1]=float(inp[i][1])"
   ]
  },
  {
   "cell_type": "code",
   "execution_count": 11,
   "id": "31a496d8",
   "metadata": {},
   "outputs": [
    {
     "ename": "TypeError",
     "evalue": "unsupported operand type(s) for &: 'float' and 'float'",
     "output_type": "error",
     "traceback": [
      "\u001b[1;31m---------------------------------------------------------------------------\u001b[0m",
      "\u001b[1;31mTypeError\u001b[0m                                 Traceback (most recent call last)",
      "\u001b[1;32m<ipython-input-11-6bf5379231c1>\u001b[0m in \u001b[0;36m<module>\u001b[1;34m\u001b[0m\n\u001b[0;32m      1\u001b[0m \u001b[0mp\u001b[0m\u001b[1;33m=\u001b[0m\u001b[0mpercep_training\u001b[0m\u001b[1;33m(\u001b[0m\u001b[0mh_weights\u001b[0m\u001b[1;33m,\u001b[0m\u001b[0mweights\u001b[0m\u001b[1;33m,\u001b[0m\u001b[1;36m0.05\u001b[0m\u001b[1;33m,\u001b[0m\u001b[1;34m'and'\u001b[0m\u001b[1;33m,\u001b[0m\u001b[1;36m0\u001b[0m\u001b[1;33m)\u001b[0m\u001b[1;33m\u001b[0m\u001b[1;33m\u001b[0m\u001b[0m\n\u001b[1;32m----> 2\u001b[1;33m \u001b[0mp\u001b[0m\u001b[1;33m.\u001b[0m\u001b[0mtrain\u001b[0m\u001b[1;33m(\u001b[0m\u001b[0minp\u001b[0m\u001b[1;33m)\u001b[0m\u001b[1;33m\u001b[0m\u001b[1;33m\u001b[0m\u001b[0m\n\u001b[0m",
      "\u001b[1;32m<ipython-input-6-1e3584e5f0f7>\u001b[0m in \u001b[0;36mtrain\u001b[1;34m(self, inp)\u001b[0m\n\u001b[0;32m     17\u001b[0m                 \u001b[0mflag1\u001b[0m\u001b[1;33m=\u001b[0m\u001b[0my\u001b[0m\u001b[1;33m\u001b[0m\u001b[1;33m\u001b[0m\u001b[0m\n\u001b[0;32m     18\u001b[0m                 \u001b[1;32mif\u001b[0m \u001b[0mself\u001b[0m\u001b[1;33m.\u001b[0m\u001b[0mgate\u001b[0m\u001b[1;33m==\u001b[0m\u001b[1;34m'and'\u001b[0m\u001b[1;33m:\u001b[0m\u001b[1;33m\u001b[0m\u001b[1;33m\u001b[0m\u001b[0m\n\u001b[1;32m---> 19\u001b[1;33m                     \u001b[0mt\u001b[0m\u001b[1;33m=\u001b[0m\u001b[0mself\u001b[0m\u001b[1;33m.\u001b[0m\u001b[0mAND\u001b[0m\u001b[1;33m(\u001b[0m\u001b[0minp\u001b[0m\u001b[1;33m[\u001b[0m\u001b[0mi\u001b[0m\u001b[1;33m]\u001b[0m\u001b[1;33m[\u001b[0m\u001b[1;36m0\u001b[0m\u001b[1;33m]\u001b[0m\u001b[1;33m,\u001b[0m\u001b[0minp\u001b[0m\u001b[1;33m[\u001b[0m\u001b[0mi\u001b[0m\u001b[1;33m]\u001b[0m\u001b[1;33m[\u001b[0m\u001b[1;36m1\u001b[0m\u001b[1;33m]\u001b[0m\u001b[1;33m)\u001b[0m\u001b[1;33m\u001b[0m\u001b[1;33m\u001b[0m\u001b[0m\n\u001b[0m\u001b[0;32m     20\u001b[0m                 \u001b[1;32melse\u001b[0m\u001b[1;33m:\u001b[0m\u001b[1;33m\u001b[0m\u001b[1;33m\u001b[0m\u001b[0m\n\u001b[0;32m     21\u001b[0m                     \u001b[0mt\u001b[0m\u001b[1;33m=\u001b[0m\u001b[0mself\u001b[0m\u001b[1;33m.\u001b[0m\u001b[0mXOR\u001b[0m\u001b[1;33m(\u001b[0m\u001b[0minp\u001b[0m\u001b[1;33m[\u001b[0m\u001b[0mi\u001b[0m\u001b[1;33m]\u001b[0m\u001b[1;33m[\u001b[0m\u001b[1;36m0\u001b[0m\u001b[1;33m]\u001b[0m\u001b[1;33m,\u001b[0m\u001b[0minp\u001b[0m\u001b[1;33m[\u001b[0m\u001b[0mi\u001b[0m\u001b[1;33m]\u001b[0m\u001b[1;33m[\u001b[0m\u001b[1;36m1\u001b[0m\u001b[1;33m]\u001b[0m\u001b[1;33m)\u001b[0m\u001b[1;33m\u001b[0m\u001b[1;33m\u001b[0m\u001b[0m\n",
      "\u001b[1;32m<ipython-input-6-1e3584e5f0f7>\u001b[0m in \u001b[0;36mAND\u001b[1;34m(self, a, b)\u001b[0m\n\u001b[0;32m     32\u001b[0m         \u001b[1;32mreturn\u001b[0m \u001b[1;36m1\u001b[0m\u001b[1;33m/\u001b[0m\u001b[1;33m(\u001b[0m\u001b[1;36m1\u001b[0m\u001b[1;33m+\u001b[0m\u001b[0mnp\u001b[0m\u001b[1;33m.\u001b[0m\u001b[0mexp\u001b[0m\u001b[1;33m(\u001b[0m\u001b[1;33m-\u001b[0m\u001b[0mz\u001b[0m\u001b[1;33m)\u001b[0m\u001b[1;33m)\u001b[0m\u001b[1;33m\u001b[0m\u001b[1;33m\u001b[0m\u001b[0m\n\u001b[0;32m     33\u001b[0m     \u001b[1;32mdef\u001b[0m \u001b[0mAND\u001b[0m\u001b[1;33m(\u001b[0m\u001b[0mself\u001b[0m\u001b[1;33m,\u001b[0m\u001b[0ma\u001b[0m\u001b[1;33m,\u001b[0m\u001b[0mb\u001b[0m\u001b[1;33m)\u001b[0m\u001b[1;33m:\u001b[0m\u001b[1;33m\u001b[0m\u001b[1;33m\u001b[0m\u001b[0m\n\u001b[1;32m---> 34\u001b[1;33m         \u001b[1;32mreturn\u001b[0m \u001b[1;33m(\u001b[0m\u001b[0ma\u001b[0m \u001b[1;33m&\u001b[0m \u001b[0mb\u001b[0m\u001b[1;33m)\u001b[0m\u001b[1;33m\u001b[0m\u001b[1;33m\u001b[0m\u001b[0m\n\u001b[0m\u001b[0;32m     35\u001b[0m     \u001b[1;32mdef\u001b[0m \u001b[0mXOR\u001b[0m\u001b[1;33m(\u001b[0m\u001b[0mself\u001b[0m\u001b[1;33m,\u001b[0m\u001b[0ma\u001b[0m\u001b[1;33m,\u001b[0m\u001b[0mb\u001b[0m\u001b[1;33m)\u001b[0m\u001b[1;33m:\u001b[0m\u001b[1;33m\u001b[0m\u001b[1;33m\u001b[0m\u001b[0m\n\u001b[0;32m     36\u001b[0m         \u001b[1;32mreturn\u001b[0m \u001b[1;33m(\u001b[0m\u001b[0ma\u001b[0m \u001b[1;33m^\u001b[0m \u001b[0mb\u001b[0m\u001b[1;33m)\u001b[0m\u001b[1;33m\u001b[0m\u001b[1;33m\u001b[0m\u001b[0m\n",
      "\u001b[1;31mTypeError\u001b[0m: unsupported operand type(s) for &: 'float' and 'float'"
     ]
    }
   ],
   "source": [
    "p=percep_training(h_weights,weights,0.05,'and',0)\n",
    "p.train(inp)"
   ]
  },
  {
   "cell_type": "code",
   "execution_count": null,
   "id": "5158f368",
   "metadata": {},
   "outputs": [],
   "source": []
  }
 ],
 "metadata": {
  "kernelspec": {
   "display_name": "Python 3",
   "language": "python",
   "name": "python3"
  },
  "language_info": {
   "codemirror_mode": {
    "name": "ipython",
    "version": 3
   },
   "file_extension": ".py",
   "mimetype": "text/x-python",
   "name": "python",
   "nbconvert_exporter": "python",
   "pygments_lexer": "ipython3",
   "version": "3.8.8"
  }
 },
 "nbformat": 4,
 "nbformat_minor": 5
}
