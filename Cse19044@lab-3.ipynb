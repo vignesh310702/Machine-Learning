{
 "cells": [
  {
   "cell_type": "code",
   "execution_count": 1,
   "id": "ccf3ef4d",
   "metadata": {},
   "outputs": [],
   "source": [
    "import numpy as np\n",
    "import random\n",
    "import sympy as sp\n",
    "import pandas as pd"
   ]
  },
  {
   "cell_type": "code",
   "execution_count": 2,
   "id": "bc87a5ec",
   "metadata": {},
   "outputs": [],
   "source": [
    "s=pd.read_csv(\"C:\\\\Users\\\\vigne\\\\Desktop\\\\test-data.csv\")"
   ]
  },
  {
   "cell_type": "code",
   "execution_count": 3,
   "id": "d68d35bb",
   "metadata": {},
   "outputs": [
    {
     "data": {
      "text/html": [
       "<div>\n",
       "<style scoped>\n",
       "    .dataframe tbody tr th:only-of-type {\n",
       "        vertical-align: middle;\n",
       "    }\n",
       "\n",
       "    .dataframe tbody tr th {\n",
       "        vertical-align: top;\n",
       "    }\n",
       "\n",
       "    .dataframe thead th {\n",
       "        text-align: right;\n",
       "    }\n",
       "</style>\n",
       "<table border=\"1\" class=\"dataframe\">\n",
       "  <thead>\n",
       "    <tr style=\"text-align: right;\">\n",
       "      <th></th>\n",
       "      <th>Unnamed: 0</th>\n",
       "      <th>Name</th>\n",
       "      <th>Location</th>\n",
       "      <th>Year</th>\n",
       "      <th>Kilometers_Driven</th>\n",
       "      <th>Fuel_Type</th>\n",
       "      <th>Transmission</th>\n",
       "      <th>Owner_Type</th>\n",
       "      <th>Mileage</th>\n",
       "      <th>Engine</th>\n",
       "      <th>Power</th>\n",
       "      <th>Seats</th>\n",
       "    </tr>\n",
       "  </thead>\n",
       "  <tbody>\n",
       "    <tr>\n",
       "      <th>0</th>\n",
       "      <td>0</td>\n",
       "      <td>Maruti Alto K10 LXI CNG</td>\n",
       "      <td>Delhi</td>\n",
       "      <td>2014</td>\n",
       "      <td>40929</td>\n",
       "      <td>CNG</td>\n",
       "      <td>Manual</td>\n",
       "      <td>First</td>\n",
       "      <td>32.26 km/kg</td>\n",
       "      <td>998 CC</td>\n",
       "      <td>58.2 bhp</td>\n",
       "      <td>4.0</td>\n",
       "    </tr>\n",
       "    <tr>\n",
       "      <th>1</th>\n",
       "      <td>1</td>\n",
       "      <td>Maruti Alto 800 2016-2019 LXI</td>\n",
       "      <td>Coimbatore</td>\n",
       "      <td>2013</td>\n",
       "      <td>54493</td>\n",
       "      <td>Petrol</td>\n",
       "      <td>Manual</td>\n",
       "      <td>Second</td>\n",
       "      <td>24.7 kmpl</td>\n",
       "      <td>796 CC</td>\n",
       "      <td>47.3 bhp</td>\n",
       "      <td>5.0</td>\n",
       "    </tr>\n",
       "    <tr>\n",
       "      <th>2</th>\n",
       "      <td>2</td>\n",
       "      <td>Toyota Innova Crysta Touring Sport 2.4 MT</td>\n",
       "      <td>Mumbai</td>\n",
       "      <td>2017</td>\n",
       "      <td>34000</td>\n",
       "      <td>Diesel</td>\n",
       "      <td>Manual</td>\n",
       "      <td>First</td>\n",
       "      <td>13.68 kmpl</td>\n",
       "      <td>2393 CC</td>\n",
       "      <td>147.8 bhp</td>\n",
       "      <td>7.0</td>\n",
       "    </tr>\n",
       "    <tr>\n",
       "      <th>3</th>\n",
       "      <td>3</td>\n",
       "      <td>Toyota Etios Liva GD</td>\n",
       "      <td>Hyderabad</td>\n",
       "      <td>2012</td>\n",
       "      <td>139000</td>\n",
       "      <td>Diesel</td>\n",
       "      <td>Manual</td>\n",
       "      <td>First</td>\n",
       "      <td>23.59 kmpl</td>\n",
       "      <td>1364 CC</td>\n",
       "      <td>null bhp</td>\n",
       "      <td>5.0</td>\n",
       "    </tr>\n",
       "    <tr>\n",
       "      <th>4</th>\n",
       "      <td>4</td>\n",
       "      <td>Hyundai i20 Magna</td>\n",
       "      <td>Mumbai</td>\n",
       "      <td>2014</td>\n",
       "      <td>29000</td>\n",
       "      <td>Petrol</td>\n",
       "      <td>Manual</td>\n",
       "      <td>First</td>\n",
       "      <td>18.5 kmpl</td>\n",
       "      <td>1197 CC</td>\n",
       "      <td>82.85 bhp</td>\n",
       "      <td>5.0</td>\n",
       "    </tr>\n",
       "  </tbody>\n",
       "</table>\n",
       "</div>"
      ],
      "text/plain": [
       "   Unnamed: 0                                       Name    Location  Year  \\\n",
       "0           0                    Maruti Alto K10 LXI CNG       Delhi  2014   \n",
       "1           1              Maruti Alto 800 2016-2019 LXI  Coimbatore  2013   \n",
       "2           2  Toyota Innova Crysta Touring Sport 2.4 MT      Mumbai  2017   \n",
       "3           3                       Toyota Etios Liva GD   Hyderabad  2012   \n",
       "4           4                          Hyundai i20 Magna      Mumbai  2014   \n",
       "\n",
       "   Kilometers_Driven Fuel_Type Transmission Owner_Type      Mileage   Engine  \\\n",
       "0              40929       CNG       Manual      First  32.26 km/kg   998 CC   \n",
       "1              54493    Petrol       Manual     Second    24.7 kmpl   796 CC   \n",
       "2              34000    Diesel       Manual      First   13.68 kmpl  2393 CC   \n",
       "3             139000    Diesel       Manual      First   23.59 kmpl  1364 CC   \n",
       "4              29000    Petrol       Manual      First    18.5 kmpl  1197 CC   \n",
       "\n",
       "       Power  Seats  \n",
       "0   58.2 bhp    4.0  \n",
       "1   47.3 bhp    5.0  \n",
       "2  147.8 bhp    7.0  \n",
       "3   null bhp    5.0  \n",
       "4  82.85 bhp    5.0  "
      ]
     },
     "execution_count": 3,
     "metadata": {},
     "output_type": "execute_result"
    }
   ],
   "source": [
    "s.head()"
   ]
  },
  {
   "cell_type": "code",
   "execution_count": 4,
   "id": "16936338",
   "metadata": {},
   "outputs": [
    {
     "data": {
      "text/html": [
       "<div>\n",
       "<style scoped>\n",
       "    .dataframe tbody tr th:only-of-type {\n",
       "        vertical-align: middle;\n",
       "    }\n",
       "\n",
       "    .dataframe tbody tr th {\n",
       "        vertical-align: top;\n",
       "    }\n",
       "\n",
       "    .dataframe thead th {\n",
       "        text-align: right;\n",
       "    }\n",
       "</style>\n",
       "<table border=\"1\" class=\"dataframe\">\n",
       "  <thead>\n",
       "    <tr style=\"text-align: right;\">\n",
       "      <th></th>\n",
       "      <th>Kilometers_Driven</th>\n",
       "      <th>Mileage</th>\n",
       "      <th>Engine</th>\n",
       "      <th>Seats</th>\n",
       "    </tr>\n",
       "  </thead>\n",
       "  <tbody>\n",
       "    <tr>\n",
       "      <th>0</th>\n",
       "      <td>40929</td>\n",
       "      <td>32.26</td>\n",
       "      <td>998.0</td>\n",
       "      <td>4.0</td>\n",
       "    </tr>\n",
       "    <tr>\n",
       "      <th>1</th>\n",
       "      <td>54493</td>\n",
       "      <td>24.70</td>\n",
       "      <td>796.0</td>\n",
       "      <td>5.0</td>\n",
       "    </tr>\n",
       "    <tr>\n",
       "      <th>2</th>\n",
       "      <td>34000</td>\n",
       "      <td>13.68</td>\n",
       "      <td>2393.0</td>\n",
       "      <td>7.0</td>\n",
       "    </tr>\n",
       "    <tr>\n",
       "      <th>3</th>\n",
       "      <td>139000</td>\n",
       "      <td>23.59</td>\n",
       "      <td>1364.0</td>\n",
       "      <td>5.0</td>\n",
       "    </tr>\n",
       "    <tr>\n",
       "      <th>4</th>\n",
       "      <td>29000</td>\n",
       "      <td>18.50</td>\n",
       "      <td>1197.0</td>\n",
       "      <td>5.0</td>\n",
       "    </tr>\n",
       "  </tbody>\n",
       "</table>\n",
       "</div>"
      ],
      "text/plain": [
       "   Kilometers_Driven  Mileage  Engine  Seats\n",
       "0              40929    32.26   998.0    4.0\n",
       "1              54493    24.70   796.0    5.0\n",
       "2              34000    13.68  2393.0    7.0\n",
       "3             139000    23.59  1364.0    5.0\n",
       "4              29000    18.50  1197.0    5.0"
      ]
     },
     "execution_count": 4,
     "metadata": {},
     "output_type": "execute_result"
    }
   ],
   "source": [
    "df=s[['Kilometers_Driven']]\n",
    "df1=s[['Mileage','Engine']]\n",
    "df1= df1[['Mileage','Engine']].replace(to_replace=r'([a-z/]+|[A-Z/]+)', value='', regex=True)\n",
    "df2=pd.concat([df,df1],axis=1, join='inner')\n",
    "df2=pd.concat([df2,s[['Seats']]],axis=1, join='inner')\n",
    "df2['Mileage'] = df2['Mileage'].astype(float)\n",
    "df2['Engine'] = df2['Engine'].astype(float)\n",
    "df2.head()"
   ]
  },
  {
   "cell_type": "code",
   "execution_count": 5,
   "id": "db75b7cf",
   "metadata": {},
   "outputs": [
    {
     "name": "stdout",
     "output_type": "stream",
     "text": [
      "[75000.0, 15.0, 1396.0, 5.0]\n",
      "[62261.0, 17.92, 1086.0, 5.0]\n",
      "4671091349.8\n"
     ]
    }
   ],
   "source": [
    "m=random.randint(0,1234)\n",
    "n=random.randint(0,1234)\n",
    "mylist=df2.values.tolist()\n",
    "a=mylist[m]\n",
    "A=np.array(a)\n",
    "b=mylist[n]\n",
    "B=np.array(b)\n",
    "for i in range(0,len(a)):\n",
    "    a[i]=float(a[i])\n",
    "for i in range(0,len(b)):\n",
    "    b[i]=float(b[i])\n",
    "print(a)\n",
    "print(b)\n",
    "c=np.dot(a,b)\n",
    "a_norm=np.linalg.norm(a)\n",
    "b_norm=np.linalg.norm(b)\n",
    "print(c)"
   ]
  },
  {
   "cell_type": "code",
   "execution_count": 6,
   "id": "6ee76a44",
   "metadata": {},
   "outputs": [
    {
     "name": "stdout",
     "output_type": "stream",
     "text": [
      "[[7.5000e+04 1.5000e+01 1.3960e+03 5.0000e+00]\n",
      " [6.2261e+04 1.7920e+01 1.0860e+03 5.0000e+00]]\n",
      "(0, 1)\n",
      "Matrix([[1, 0], [0, 1], [0, 0], [0, 0]])\n"
     ]
    }
   ],
   "source": [
    "k=np.array([a,b])\n",
    "print(k)\n",
    "k_ech,inds = sp.Matrix(k.T).rref()  \n",
    "print(inds)\n",
    "print(k_ech)"
   ]
  },
  {
   "cell_type": "code",
   "execution_count": 7,
   "id": "d34bcfdb",
   "metadata": {},
   "outputs": [
    {
     "data": {
      "text/plain": [
       "2"
      ]
     },
     "execution_count": 7,
     "metadata": {},
     "output_type": "execute_result"
    }
   ],
   "source": [
    "len(inds)"
   ]
  },
  {
   "cell_type": "markdown",
   "id": "a5bb90a9",
   "metadata": {},
   "source": [
    "so the random selected vectors are dependent on each other."
   ]
  },
  {
   "cell_type": "code",
   "execution_count": 8,
   "id": "49237aea",
   "metadata": {},
   "outputs": [
    {
     "name": "stdout",
     "output_type": "stream",
     "text": [
      "0.9999993113068392\n"
     ]
    }
   ],
   "source": [
    "cos=(np.dot(a,b))/(np.linalg.norm(a)*np.linalg.norm(b))\n",
    "print(cos)"
   ]
  },
  {
   "cell_type": "code",
   "execution_count": 9,
   "id": "d48044c7",
   "metadata": {},
   "outputs": [
    {
     "name": "stdout",
     "output_type": "stream",
     "text": [
      "62270.43056024824\n"
     ]
    }
   ],
   "source": [
    "proj_val=np.linalg.norm(b)*cos\n",
    "print(proj_val)"
   ]
  },
  {
   "cell_type": "code",
   "execution_count": 10,
   "id": "88572ab8",
   "metadata": {},
   "outputs": [
    {
     "data": {
      "text/plain": [
       "(1, 1)"
      ]
     },
     "execution_count": 10,
     "metadata": {},
     "output_type": "execute_result"
    }
   ],
   "source": [
    "D=np.matrix([cos])\n",
    "D.shape"
   ]
  },
  {
   "cell_type": "code",
   "execution_count": 11,
   "id": "5e4b620b",
   "metadata": {},
   "outputs": [
    {
     "data": {
      "text/plain": [
       "(4, 1)"
      ]
     },
     "execution_count": 11,
     "metadata": {},
     "output_type": "execute_result"
    }
   ],
   "source": [
    "B=np.matrix(b).T\n",
    "B.shape"
   ]
  },
  {
   "cell_type": "code",
   "execution_count": 12,
   "id": "5618cb0b",
   "metadata": {},
   "outputs": [
    {
     "name": "stdout",
     "output_type": "stream",
     "text": [
      "[[6.22609571e+04 1.79199877e+01 1.08599925e+03 4.99999656e+00]]\n"
     ]
    }
   ],
   "source": [
    "proj=B.dot(D)\n",
    "print(proj.T)\n",
    "#projection vector"
   ]
  },
  {
   "cell_type": "code",
   "execution_count": 13,
   "id": "d4595027",
   "metadata": {},
   "outputs": [
    {
     "name": "stdout",
     "output_type": "stream",
     "text": [
      "[[4.28787249e-02 1.23413814e-05 7.47920773e-04 3.44346580e-06]]\n"
     ]
    }
   ],
   "source": [
    "H2=B-proj\n",
    "print(H2.T)"
   ]
  },
  {
   "cell_type": "code",
   "execution_count": 14,
   "id": "d0ba4e0b",
   "metadata": {},
   "outputs": [],
   "source": [
    "h2=np.array(H2)"
   ]
  },
  {
   "cell_type": "code",
   "execution_count": 15,
   "id": "f6157000",
   "metadata": {},
   "outputs": [
    {
     "name": "stdout",
     "output_type": "stream",
     "text": [
      "[3216.94866643]\n"
     ]
    }
   ],
   "source": [
    "vector1_h2_angle=np.dot(a,h2)\n",
    "print(vector1_h2_angle)"
   ]
  },
  {
   "cell_type": "code",
   "execution_count": 16,
   "id": "2931b353",
   "metadata": {},
   "outputs": [
    {
     "name": "stdout",
     "output_type": "stream",
     "text": [
      "      Kilometers_Driven  Mileage  Engine  Seats\n",
      "0                 40929    32.26   998.0    4.0\n",
      "2                 34000    13.68  2393.0    7.0\n",
      "4                 29000    18.50  1197.0    5.0\n",
      "11                21000    18.90  1197.0    5.0\n",
      "14                45000    13.24  1598.0    5.0\n",
      "...                 ...      ...     ...    ...\n",
      "1225              45463    14.49  1399.0    5.0\n",
      "1226              44776    18.00  1198.0    5.0\n",
      "1227              18242    18.90  1197.0    5.0\n",
      "1228              21190    21.10   814.0    5.0\n",
      "1231              28000    23.08  1461.0    5.0\n",
      "\n",
      "[559 rows x 4 columns]\n",
      "      Kilometers_Driven  Mileage  Engine  Seats\n",
      "1                 54493    24.70   796.0    5.0\n",
      "3                139000    23.59  1364.0    5.0\n",
      "5                 85609    16.00  2179.0    7.0\n",
      "6                 59000    12.55  2982.0    7.0\n",
      "7                 65000    21.10   814.0    5.0\n",
      "...                 ...      ...     ...    ...\n",
      "1224              70000    19.87  1461.0    5.0\n",
      "1229              89411    20.54  1598.0    5.0\n",
      "1230              59000    17.21  1197.0    5.0\n",
      "1232              52262    17.20  1197.0    5.0\n",
      "1233              72443    10.00  2148.0    5.0\n",
      "\n",
      "[675 rows x 4 columns]\n",
      "[30516.441860465115, 18.740304114490165, 1506.5224416517055, 5.152877697841727]\n",
      "[81687.85629629629, 17.70475555555555, 1666.289355322339, 5.3943028485757125]\n",
      "[12659.472214979009, 4.424323290645029, 541.4544362990622, 0.6597435130623078]\n",
      "[31559.026438982342, 4.440053926043335, 572.3072495938397, 0.9271018106730264]\n"
     ]
    }
   ],
   "source": [
    "class1 = df2[df2[\"Kilometers_Driven\"] <= 50000]\n",
    "print(class1)\n",
    "class2 = df2[df2[\"Kilometers_Driven\"] >= 50001]\n",
    "print(class2)\n",
    "mean1 = list(np.mean(class1, axis=0))\n",
    "M1=np.matrix(mean1)\n",
    "print(mean1)\n",
    "mean2 = list(np.mean(class2, axis=0))\n",
    "print(mean2)\n",
    "M2=np.matrix(mean2)\n",
    "std1 = list(np.std(class1, axis=0))\n",
    "print(std1)\n",
    "std2 = list(np.std(class2, axis=0))\n",
    "print(std2)"
   ]
  },
  {
   "cell_type": "code",
   "execution_count": 17,
   "id": "400737c9",
   "metadata": {},
   "outputs": [
    {
     "name": "stdout",
     "output_type": "stream",
     "text": [
      "51171.66385765605\n"
     ]
    }
   ],
   "source": [
    "diff_Mean = np.linalg.norm(M1 - M2)\n",
    "print(diff_Mean)"
   ]
  },
  {
   "cell_type": "code",
   "execution_count": 18,
   "id": "efcd60c2",
   "metadata": {},
   "outputs": [
    {
     "data": {
      "image/png": "[encoded data removed]",
      "text/plain": [
       "<Figure size 432x288 with 1 Axes>"
      ]
     },
     "metadata": {
      "needs_background": "light"
     },
     "output_type": "display_data"
    }
   ],
   "source": [
    "import matplotlib.pyplot as plt\n",
    "plt.hist(df2['Kilometers_Driven'])\n",
    "plt.show()"
   ]
  },
  {
   "cell_type": "code",
   "execution_count": 19,
   "id": "a1333df8",
   "metadata": {},
   "outputs": [
    {
     "data": {
      "image/png": "[encoded data removed]",
      "text/plain": [
       "<Figure size 432x288 with 1 Axes>"
      ]
     },
     "metadata": {
      "needs_background": "light"
     },
     "output_type": "display_data"
    }
   ],
   "source": [
    "from scipy.stats import norm,uniform,expon\n",
    "df3=df2[['Kilometers_Driven']]\n",
    "mean=np.mean(df3)\n",
    "sd=np.std(df3)\n",
    "plt.plot(df3, norm.pdf(df3, mean, sd))\n",
    "plt.title(\"Normal Distribution\")\n",
    "plt.show()"
   ]
  },
  {
   "cell_type": "code",
   "execution_count": 20,
   "id": "d04540dc",
   "metadata": {},
   "outputs": [
    {
     "data": {
      "image/png": "[encoded data removed]",
      "text/plain": [
       "<Figure size 432x288 with 1 Axes>"
      ]
     },
     "metadata": {
      "needs_background": "light"
     },
     "output_type": "display_data"
    }
   ],
   "source": [
    "plt.plot(df3,uniform.pdf(df3, mean, sd))\n",
    "plt.title(\"Uniform Distribution\")\n",
    "plt.show()"
   ]
  },
  {
   "cell_type": "code",
   "execution_count": 21,
   "id": "16d15536",
   "metadata": {},
   "outputs": [
    {
     "data": {
      "image/png": "[encoded data removed]",
      "text/plain": [
       "<Figure size 432x288 with 1 Axes>"
      ]
     },
     "metadata": {
      "needs_background": "light"
     },
     "output_type": "display_data"
    }
   ],
   "source": [
    "plt.plot(df3,expon.pdf(df3, mean, sd))\n",
    "plt.title(\"Exponential Distrubition\")\n",
    "plt.show()"
   ]
  },
  {
   "cell_type": "code",
   "execution_count": null,
   "id": "1c0ab6a3",
   "metadata": {},
   "outputs": [],
   "source": []
  }
 ],
 "metadata": {
  "kernelspec": {
   "display_name": "Python 3",
   "language": "python",
   "name": "python3"
  },
  "language_info": {
   "codemirror_mode": {
    "name": "ipython",
    "version": 3
   },
   "file_extension": ".py",
   "mimetype": "text/x-python",
   "name": "python",
   "nbconvert_exporter": "python",
   "pygments_lexer": "ipython3",
   "version": "3.8.8"
  }
 },
 "nbformat": 4,
 "nbformat_minor": 5
}
