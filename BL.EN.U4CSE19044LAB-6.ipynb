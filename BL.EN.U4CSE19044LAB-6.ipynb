{
 "cells": [
  {
   "cell_type": "code",
   "execution_count": 67,
   "id": "296729f6",
   "metadata": {},
   "outputs": [],
   "source": [
    "import numpy as np\n",
    "import time\n",
    "import matplotlib.pyplot as plt\n",
    "import pandas as pd\n",
    "import warnings\n",
    "warnings.filterwarnings(\"ignore\")\n",
    "from sklearn.metrics import confusion_matrix,classification_report,accuracy_score"
   ]
  },
  {
   "cell_type": "code",
   "execution_count": 68,
   "id": "c99ba4b8",
   "metadata": {},
   "outputs": [],
   "source": [
    "AND_gate=pd.DataFrame({\"A\":[0,0,1,1],\n",
    "                      \"B\":[0,1,0,1],\n",
    "                      \"Z\":[0,0,0,1]})\n",
    "XOR_gate=pd.DataFrame({\"A\":[0,0,1,1],\n",
    "                      \"B\":[0,1,0,1],\n",
    "                      \"Z\":[0,1,1,0]})"
   ]
  },
  {
   "cell_type": "code",
   "execution_count": 69,
   "id": "e83bebc9",
   "metadata": {},
   "outputs": [],
   "source": [
    "class ANN:\n",
    "    \n",
    "    def __init__(self,X,Y,h,h1,learning_rate,activation_function,iterations,verbose=False):\n",
    "        \n",
    "        self.X = X\n",
    "        self.Y = Y\n",
    "        self.h = h\n",
    "        self.h1 = h1\n",
    "        self.learning_rate = learning_rate\n",
    "        self.iterations = iterations\n",
    "        self.verbose = verbose\n",
    "        self.activation_function=activation_function\n",
    "        \n",
    "        #in this model iam using 2 hidden layers\n",
    "        \n",
    "    def layer_sizes(self,X,Y):\n",
    "        input_layer_size=X.shape[0]\n",
    "        hidden_layer_size=self.h\n",
    "        hidden_layer_size1=self.h1\n",
    "        output_layer_size=Y.shape[0]\n",
    "        return (input_layer_size,hidden_layer_size,hidden_layer_size1,output_layer_size)\n",
    "    \n",
    "    def initialize_parameters(self,i,o):\n",
    "        W1 = np.random.randn(self.h,i)*0.01\n",
    "        b1 = np.zeros((self.h,1))\n",
    "        W2 = np.random.randn(self.h1,self.h)*0.01\n",
    "        b2 = np.zeros((self.h1,1))\n",
    "        W3 = np.random.randn(o,self.h1)*0.01\n",
    "        b3 = np.zeros((o,1))\n",
    "        parameters = {\"W1\": W1,\n",
    "                      \"b1\": b1,\n",
    "                      \"W2\": W2,\n",
    "                      \"b2\": b2,\n",
    "                      \"W3\": W3,\n",
    "                      \"b3\": b3}\n",
    "        return parameters\n",
    "    \n",
    "    def forward_propagation(self,X,parameters):\n",
    "    \n",
    "        #load the parameters\n",
    "        W1 = parameters['W1']\n",
    "        b1 = parameters['b1']\n",
    "        W2 = parameters['W2']\n",
    "        b2 = parameters['b2']\n",
    "        W3 = parameters[\"W3\"]\n",
    "        b3 = parameters[\"b3\"]\n",
    "\n",
    "        #compute Z and A values\n",
    "        \n",
    "        if self.activation_function==\"tanh\":\n",
    "            Z1 = np.dot(W1,X)+b1\n",
    "            A1 = np.tanh(Z1)\n",
    "            Z2 = np.dot(W2,A1)+b2\n",
    "            A2 = np.tanh(Z2)\n",
    "            Z3 = np.dot(W3,A2)+b3\n",
    "            A3=1/(1+np.exp(-Z3))\n",
    "            cache = {\"Z1\": Z1,\n",
    "                     \"A1\": A1,\n",
    "                     \"Z2\": Z2,\n",
    "                     \"A2\": A2,\n",
    "                     \"Z3\": Z3,\n",
    "                     \"A3\": A3}\n",
    "            \n",
    "        if self.activation_function==\"sigmoid\":\n",
    "            Z1 = np.dot(W1,X)+b1\n",
    "            A1 = 1/(1+np.exp(-Z1))\n",
    "            Z2 = np.dot(W2,A1)+b2\n",
    "            A2 = 1/(1+np.exp(-Z2))\n",
    "            Z3 = np.dot(W3,A2)+b3\n",
    "            A3=1/(1+np.exp(-Z3))\n",
    "            cache = {\"Z1\": Z1,\n",
    "                     \"A1\": A1,\n",
    "                     \"Z2\": Z2,\n",
    "                     \"A2\": A2,\n",
    "                     \"Z3\": Z3,\n",
    "                     \"A3\": A3}\n",
    "\n",
    "        return A3,cache\n",
    "    \n",
    "    def compute_cost(self,A3,Y,parameters):\n",
    "    \n",
    "        m=Y.shape[1]\n",
    "\n",
    "        cost=-np.sum((np.dot(np.log(A3),Y.T)+np.dot(np.log(1-A3),(1-Y).T)))/m\n",
    "\n",
    "        cost=float(np.squeeze(cost))\n",
    "\n",
    "        return cost\n",
    "    \n",
    "    def backward_propagation(self,X,Y,cache,parameters):\n",
    "    \n",
    "        m=X.shape[1]\n",
    "\n",
    "        W1=parameters[\"W1\"]\n",
    "        W2=parameters[\"W2\"]\n",
    "        W3=parameters[\"W3\"]\n",
    "\n",
    "        A1 = cache[\"A1\"]\n",
    "        A2 = cache[\"A2\"]\n",
    "        A3 = cache[\"A3\"]\n",
    "        \n",
    "    \n",
    "        #dz(n)=(w(n+1).dz(n+1))*(1-f'(x)^2)\n",
    "        #deltaW(n)= (dz(n).A(n-1))/m\n",
    "        if self.activation_function==\"tanh\":\n",
    "            dZ3=np.subtract(A3,Y)\n",
    "            dW3=np.dot(dZ3,A2.T)\n",
    "            db3=(np.sum(dZ3,axis=1,keepdims=True))/m\n",
    "            dZ2=np.dot(W3.T,dZ3)*(1-np.power(A2,2))\n",
    "            dW2=np.dot(dZ2,A1.T)/m\n",
    "            db2=(np.sum(dZ2,axis=1,keepdims=True))/m\n",
    "            dZ1=np.dot(W2.T,dZ2)*(1-np.power(A1,2))\n",
    "            dW1=np.dot(dZ1,X.T)/m\n",
    "            db1=(np.sum(dZ1,axis=1,keepdims=True))/m\n",
    "\n",
    "            grads = {\"dW1\": dW1,\n",
    "                     \"db1\": db1,\n",
    "                     \"dW2\": dW2,\n",
    "                     \"db2\": db2,\n",
    "                     \"dW3\": dW3,\n",
    "                     \"db3\": db3}\n",
    "            \n",
    "        if self.activation_function==\"sigmoid\":\n",
    "            dZ3=np.subtract(A3,Y)\n",
    "            dW3=np.dot(dZ3,A2.T)\n",
    "            db3=(np.sum(dZ3,axis=1,keepdims=True))/m\n",
    "            dZ2=np.dot(W3.T,dZ3)*(1-A2)*A2\n",
    "            dW2=np.dot(dZ2,A1.T)/m\n",
    "            db2=(np.sum(dZ2,axis=1,keepdims=True))/m\n",
    "            dZ1=np.dot(W2.T,dZ2)*(1-A1)*A1\n",
    "            dW1=np.dot(dZ1,X.T)/m\n",
    "            db1=(np.sum(dZ1,axis=1,keepdims=True))/m\n",
    "\n",
    "            grads = {\"dW1\": dW1,\n",
    "                     \"db1\": db1,\n",
    "                     \"dW2\": dW2,\n",
    "                     \"db2\": db2,\n",
    "                     \"dW3\": dW3,\n",
    "                     \"db3\": db3}\n",
    "    \n",
    "        return grads\n",
    "\n",
    "    def update_parameters(self,parameters,grads,lr):\n",
    "    \n",
    "        W1 = parameters[\"W1\"]\n",
    "        b1 = parameters[\"b1\"]\n",
    "        W2 = parameters[\"W2\"]\n",
    "        b2 = parameters[\"b2\"]\n",
    "        W3 = parameters[\"W3\"]\n",
    "        b3 = parameters[\"b3\"]\n",
    "\n",
    "        dW1 = grads[\"dW1\"]\n",
    "        db1 = grads[\"db1\"]\n",
    "        dW2 = grads[\"dW2\"]\n",
    "        db2 = grads[\"db2\"]\n",
    "        dW3 = grads[\"dW3\"]\n",
    "        db3 = grads[\"db3\"]\n",
    "\n",
    "        W1 = W1-lr*dW1\n",
    "        b1 = b1-lr*db1\n",
    "        W2 = W2-lr*dW2\n",
    "        b2 = b2-lr*db2\n",
    "        W3 = W3-lr*dW3\n",
    "        b3 = b3-lr*db3\n",
    "\n",
    "        parameters = {\"W1\": W1,\n",
    "                      \"b1\": b1,\n",
    "                      \"W2\": W2,\n",
    "                      \"b2\": b2,\n",
    "                      \"W3\": W3,\n",
    "                      \"b3\": b3}\n",
    "        return parameters\n",
    "    \n",
    "    def process(self):\n",
    "        \n",
    "        #np.random.seed(3)\n",
    "        i=self.layer_sizes(self.X,self.Y)[0]\n",
    "        o=self.layer_sizes(self.X,self.Y)[3]\n",
    "        #print(i,o)\n",
    "        self.parameters=self.initialize_parameters(i=i,o=o)\n",
    "        #print(self.parameters)\n",
    "        self.cost_error=[]\n",
    "        \n",
    "        for j in range(self.iterations):\n",
    "                \n",
    "            self.A3,self.cache=self.forward_propagation(self.X,self.parameters)\n",
    "            \n",
    "            cost=self.compute_cost(self.A3,self.Y,self.parameters)\n",
    "            \n",
    "            self.grads=self.backward_propagation(self.X,self.Y,self.cache,self.parameters)\n",
    "            \n",
    "            self.parameters=self.update_parameters(self.parameters,self.grads,self.learning_rate)\n",
    "            \n",
    "            s=1000\n",
    "            if self.verbose and (j%s==0):\n",
    "                y_pred=self.predictions(X)\n",
    "                acc=accuracy_score(self.Y[0],y_pred)*100\n",
    "                self.cost_error.append(cost)\n",
    "                print(f\"cost at {j} iteration is ====> {cost} and accuracy score is {acc}\")\n",
    "\n",
    "        return self.cost_error\n",
    "    \n",
    "    def predictions(self,X):\n",
    "            A3,cache=self.forward_propagation(X,self.parameters)\n",
    "            predictions = []\n",
    "            for i in range(len(A3[0])):\n",
    "                if (A3[0][i]>0.5).any():\n",
    "                    predictions.append(1)\n",
    "                else:\n",
    "                    predictions.append(0)\n",
    "            predictions=np.array(predictions)\n",
    "            return predictions\n",
    "    \n",
    "    def hypothesis(self,X,Y):\n",
    "        x_min,x_max=x[:,0].min()-1,x[:,0].max()+1\n",
    "        y_min,y_max =x[:,1].min()-1,x[:, 1].max()+1\n",
    "        xx,yy=np.meshgrid(np.arange(x_min,x_max,0.1),\n",
    "                             np.arange(x_min,x_max,0.1))\n",
    "        z=self.predictions(np.c_[xx.ravel(),yy.ravel()].T)\n",
    "        z=z.reshape(xx.shape)\n",
    "        plt.contourf(xx,yy,z,alpha=0.4)\n",
    "        plt.scatter(x[:,0],x[:,1],c=y,s=20,edgecolor='k')\n",
    "        plt.show()\n",
    "        "
   ]
  },
  {
   "cell_type": "code",
   "execution_count": 70,
   "id": "fe9c51c1",
   "metadata": {},
   "outputs": [
    {
     "name": "stdout",
     "output_type": "stream",
     "text": [
      "cost at 0 iteration is ====> 0.6921273705457 and accuracy score is 75.0\n",
      "cost at 1000 iteration is ====> 0.562317587594888 and accuracy score is 75.0\n",
      "cost at 2000 iteration is ====> 0.5622703671426512 and accuracy score is 75.0\n",
      "cost at 3000 iteration is ====> 0.5621101929978813 and accuracy score is 75.0\n",
      "cost at 4000 iteration is ====> 0.5615581571298199 and accuracy score is 75.0\n",
      "cost at 5000 iteration is ====> 0.5595529165816473 and accuracy score is 75.0\n",
      "cost at 6000 iteration is ====> 0.5506158412805172 and accuracy score is 75.0\n",
      "cost at 7000 iteration is ====> 0.47811079414966196 and accuracy score is 75.0\n",
      "cost at 8000 iteration is ====> 0.10321805068423082 and accuracy score is 100.0\n",
      "cost at 9000 iteration is ====> 0.029985542119306183 and accuracy score is 100.0\n"
     ]
    }
   ],
   "source": [
    "X=np.array(AND_gate.drop([\"Z\"],axis=1))\n",
    "Y=np.array(AND_gate[\"Z\"])\n",
    "X=X.reshape(X.shape[1],X.shape[0])\n",
    "Y=Y.reshape(1,Y.shape[0])\n",
    "model=ANN(X,Y,h=3,h1=2,learning_rate=0.05,activation_function=\"sigmoid\",iterations=10000,verbose=True)\n",
    "c=model.process()\n",
    "y_pred=model.predictions(X)"
   ]
  },
  {
   "cell_type": "code",
   "execution_count": 71,
   "id": "79d780db",
   "metadata": {},
   "outputs": [
    {
     "name": "stdout",
     "output_type": "stream",
     "text": [
      "cost at 0 iteration is ====> 0.6931477551921927 and accuracy score is 50.0\n",
      "cost at 1000 iteration is ====> 0.6931471826390081 and accuracy score is 50.0\n",
      "cost at 2000 iteration is ====> 0.6931471824891937 and accuracy score is 50.0\n",
      "cost at 3000 iteration is ====> 0.6931471823415324 and accuracy score is 50.0\n",
      "cost at 4000 iteration is ====> 0.6931471821958963 and accuracy score is 50.0\n",
      "cost at 5000 iteration is ====> 0.693147182052162 and accuracy score is 50.0\n",
      "cost at 6000 iteration is ====> 0.6931471819102083 and accuracy score is 50.0\n",
      "cost at 7000 iteration is ====> 0.6931471817699172 and accuracy score is 50.0\n",
      "cost at 8000 iteration is ====> 0.6931471816311736 and accuracy score is 50.0\n",
      "cost at 9000 iteration is ====> 0.6931471814938648 and accuracy score is 50.0\n"
     ]
    }
   ],
   "source": [
    "X=np.array(XOR_gate.drop([\"Z\"],axis=1))\n",
    "Y=np.array(XOR_gate[\"Z\"])\n",
    "X=X.reshape(X.shape[1],X.shape[0])\n",
    "Y=Y.reshape(1,Y.shape[0])\n",
    "model=ANN(X,Y,h=3,h1=2,learning_rate=0.05,activation_function=\"sigmoid\",iterations=10000,verbose=True)\n",
    "c=model.process()\n",
    "y_pred=model.predictions(X)"
   ]
  },
  {
   "cell_type": "code",
   "execution_count": 72,
   "id": "18cd765d",
   "metadata": {},
   "outputs": [],
   "source": [
    "from sklearn.neural_network import MLPClassifier\n",
    "import pandas as pd"
   ]
  },
  {
   "cell_type": "code",
   "execution_count": 73,
   "id": "06806a49",
   "metadata": {},
   "outputs": [],
   "source": [
    "model=MLPClassifier(solver='lbfgs',alpha=1e-5,\n",
    "                    hidden_layer_sizes=(8,3,1))"
   ]
  },
  {
   "cell_type": "code",
   "execution_count": 3,
   "id": "4ddb756e",
   "metadata": {},
   "outputs": [
    {
     "name": "stdout",
     "output_type": "stream",
     "text": [
      "   A  B  Z\n",
      "0  0  0  0\n",
      "1  0  1  0\n",
      "2  1  0  0\n",
      "3  1  1  1\n"
     ]
    }
   ],
   "source": [
    "AND_gate=pd.DataFrame({\"A\":[0,0,1,1],\n",
    "                      \"B\":[0,1,0,1],\n",
    "                      \"Z\":[0,0,0,1]})\n",
    "XOR_gate=pd.DataFrame({\"A\":[0,0,1,1],\n",
    "                      \"B\":[0,1,0,1],\n",
    "                      \"Z\":[0,1,1,0]})\n",
    "\n",
    "X=np.array(AND_gate.drop([\"Z\"],axis=1))\n",
    "Y=np.array(AND_gate[\"Z\"])\n",
    "print(AND_gate)"
   ]
  },
  {
   "cell_type": "code",
   "execution_count": 75,
   "id": "36e3235b",
   "metadata": {
    "scrolled": true
   },
   "outputs": [
    {
     "data": {
      "text/plain": [
       "MLPClassifier(alpha=1e-05, hidden_layer_sizes=(8, 3, 1), solver='lbfgs')"
      ]
     },
     "execution_count": 75,
     "metadata": {},
     "output_type": "execute_result"
    }
   ],
   "source": [
    "model.fit(X,Y)"
   ]
  },
  {
   "cell_type": "code",
   "execution_count": 76,
   "id": "31e83598",
   "metadata": {},
   "outputs": [
    {
     "data": {
      "text/plain": [
       "array([0, 0, 0, 0], dtype=int64)"
      ]
     },
     "execution_count": 76,
     "metadata": {},
     "output_type": "execute_result"
    }
   ],
   "source": [
    "model.predict(X)"
   ]
  },
  {
   "cell_type": "code",
   "execution_count": 77,
   "id": "4bf99369",
   "metadata": {},
   "outputs": [
    {
     "data": {
      "text/plain": [
       "array([0, 0, 0, 1], dtype=int64)"
      ]
     },
     "execution_count": 77,
     "metadata": {},
     "output_type": "execute_result"
    }
   ],
   "source": [
    "Y"
   ]
  },
  {
   "cell_type": "code",
   "execution_count": 2,
   "id": "bee8b799",
   "metadata": {},
   "outputs": [],
   "source": [
    "import numpy as np\n",
    "import random\n",
    "import sympy as sp\n",
    "import pandas as pd"
   ]
  },
  {
   "cell_type": "code",
   "execution_count": 18,
   "id": "0cdd908e",
   "metadata": {},
   "outputs": [
    {
     "name": "stdout",
     "output_type": "stream",
     "text": [
      "   Unnamed: 0  Unnamed: 0.1                                       Name  \\\n",
      "0           0             2  Toyota Innova Crysta Touring Sport 2.4 MT   \n",
      "1           1            30                 Toyota Etios Cross 1.4L VD   \n",
      "2           2            36               Skoda Rapid 1.6 MPI AT Style   \n",
      "3           3            39              BMW 5 Series 520d Luxury Line   \n",
      "4           4            43               Skoda Rapid 1.6 MPI Ambition   \n",
      "\n",
      "  Location  Year  Kilometers_Driven Fuel_Type Transmission Owner_Type  \\\n",
      "0   Mumbai  2017              34000    Diesel       Manual      First   \n",
      "1  Chennai  2014              70000    Diesel       Manual     Second   \n",
      "2   Mumbai  2017              13500    Petrol    Automatic      First   \n",
      "3   Mumbai  2012              66889    Diesel    Automatic      First   \n",
      "4   Jaipur  2018               4000    Petrol       Manual      First   \n",
      "\n",
      "      Mileage   Engine       Power  Seats   New_Price  \n",
      "0  13.68 kmpl  2393 CC   147.8 bhp      7  25.27 Lakh  \n",
      "1  23.59 kmpl  1364 CC   67.06 bhp      5   9.27 Lakh  \n",
      "2  14.84 kmpl  1598 CC  103.52 bhp      5  14.95 Lakh  \n",
      "3  22.48 kmpl  1995 CC     190 bhp      5  70.43 Lakh  \n",
      "4  15.41 kmpl  1598 CC  103.52 bhp      5  11.89 Lakh  \n"
     ]
    },
    {
     "data": {
      "text/html": [
       "<div>\n",
       "<style scoped>\n",
       "    .dataframe tbody tr th:only-of-type {\n",
       "        vertical-align: middle;\n",
       "    }\n",
       "\n",
       "    .dataframe tbody tr th {\n",
       "        vertical-align: top;\n",
       "    }\n",
       "\n",
       "    .dataframe thead th {\n",
       "        text-align: right;\n",
       "    }\n",
       "</style>\n",
       "<table border=\"1\" class=\"dataframe\">\n",
       "  <thead>\n",
       "    <tr style=\"text-align: right;\">\n",
       "      <th></th>\n",
       "      <th>Kilometers_Driven</th>\n",
       "      <th>Seats</th>\n",
       "      <th>Mileage</th>\n",
       "      <th>Engine</th>\n",
       "      <th>New_Price</th>\n",
       "    </tr>\n",
       "  </thead>\n",
       "  <tbody>\n",
       "    <tr>\n",
       "      <th>0</th>\n",
       "      <td>34000</td>\n",
       "      <td>7</td>\n",
       "      <td>13.68</td>\n",
       "      <td>2393.0</td>\n",
       "      <td>25.27</td>\n",
       "    </tr>\n",
       "    <tr>\n",
       "      <th>1</th>\n",
       "      <td>70000</td>\n",
       "      <td>5</td>\n",
       "      <td>23.59</td>\n",
       "      <td>1364.0</td>\n",
       "      <td>9.27</td>\n",
       "    </tr>\n",
       "    <tr>\n",
       "      <th>2</th>\n",
       "      <td>13500</td>\n",
       "      <td>5</td>\n",
       "      <td>14.84</td>\n",
       "      <td>1598.0</td>\n",
       "      <td>14.95</td>\n",
       "    </tr>\n",
       "    <tr>\n",
       "      <th>3</th>\n",
       "      <td>66889</td>\n",
       "      <td>5</td>\n",
       "      <td>22.48</td>\n",
       "      <td>1995.0</td>\n",
       "      <td>70.43</td>\n",
       "    </tr>\n",
       "    <tr>\n",
       "      <th>4</th>\n",
       "      <td>4000</td>\n",
       "      <td>5</td>\n",
       "      <td>15.41</td>\n",
       "      <td>1598.0</td>\n",
       "      <td>11.89</td>\n",
       "    </tr>\n",
       "  </tbody>\n",
       "</table>\n",
       "</div>"
      ],
      "text/plain": [
       "   Kilometers_Driven  Seats  Mileage  Engine  New_Price\n",
       "0              34000      7    13.68  2393.0      25.27\n",
       "1              70000      5    23.59  1364.0       9.27\n",
       "2              13500      5    14.84  1598.0      14.95\n",
       "3              66889      5    22.48  1995.0      70.43\n",
       "4               4000      5    15.41  1598.0      11.89"
      ]
     },
     "execution_count": 18,
     "metadata": {},
     "output_type": "execute_result"
    }
   ],
   "source": [
    "s=pd.read_excel(\"C:\\\\Users\\\\vigne\\\\Desktop\\\\df2.xlsx\")\n",
    "print(s.head())\n",
    "df=s[['Kilometers_Driven']]\n",
    "df1=s[['Mileage','Engine',\"Seats\",\"New_Price\"]]\n",
    "df1= df1[['Mileage','Engine',\"New_Price\"]].replace(to_replace=r'([a-z/]+|[A-Z/]+)', value='', regex=True)\n",
    "df2=pd.concat([df,s[['Seats']]],axis=1, join='inner')\n",
    "df2=pd.concat([df2,df1],axis=1, join='inner')\n",
    "df2['Mileage'] = df2['Mileage'].astype(float)\n",
    "df2['Engine'] = df2['Engine'].astype(float)\n",
    "df2['New_Price'] = df2['New_Price'].astype(float)\n",
    "df2.head()"
   ]
  },
  {
   "cell_type": "code",
   "execution_count": null,
   "id": "787dff9b",
   "metadata": {},
   "outputs": [],
   "source": []
  }
 ],
 "metadata": {
  "kernelspec": {
   "display_name": "Python 3",
   "language": "python",
   "name": "python3"
  },
  "language_info": {
   "codemirror_mode": {
    "name": "ipython",
    "version": 3
   },
   "file_extension": ".py",
   "mimetype": "text/x-python",
   "name": "python",
   "nbconvert_exporter": "python",
   "pygments_lexer": "ipython3",
   "version": "3.8.8"
  }
 },
 "nbformat": 4,
 "nbformat_minor": 5
}
